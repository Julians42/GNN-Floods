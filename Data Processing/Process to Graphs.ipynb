{
  "nbformat": 4,
  "nbformat_minor": 0,
  "metadata": {
    "colab": {
      "provenance": []
    },
    "kernelspec": {
      "name": "python3",
      "display_name": "Python 3"
    },
    "language_info": {
      "name": "python"
    }
  },
  "cells": [
    {
      "cell_type": "markdown",
      "source": [
        "# Data Processing\n",
        "Here we do additional processing for the data to create the graph structure for Florida.  "
      ],
      "metadata": {
        "id": "pdXniZpfdSfG"
      }
    },
    {
      "cell_type": "code",
      "execution_count": null,
      "metadata": {
        "colab": {
          "base_uri": "https://localhost:8080/"
        },
        "id": "resGHBcwxrcM",
        "outputId": "a40c159a-0c60-4489-a11b-204e891f07f6"
      },
      "outputs": [
        {
          "output_type": "stream",
          "name": "stdout",
          "text": [
            "Using matplotlib backend: agg\n",
            "Populating the interactive namespace from numpy and matplotlib\n"
          ]
        },
        {
          "output_type": "stream",
          "name": "stderr",
          "text": [
            "/usr/local/lib/python3.10/dist-packages/IPython/core/magics/pylab.py:159: UserWarning: pylab import has clobbered these variables: ['datetime']\n",
            "`%matplotlib` prevents importing * from pylab and numpy\n",
            "  warn(\"pylab import has clobbered these variables: %s\"  % clobbered +\n"
          ]
        },
        {
          "output_type": "stream",
          "name": "stdout",
          "text": [
            "Mounted at /content/gdrive\n"
          ]
        }
      ],
      "source": [
        "# magic command to import a bunch of stuff\n",
        "%pylab\n",
        "\n",
        "# make plots show up in notebook\n",
        "%matplotlib inline\n",
        "\n",
        "import pandas as pd\n",
        "import numpy as np\n",
        "import torch\n",
        "from tqdm import tqdm\n",
        "from google.colab import drive\n",
        "drive.mount('/content/gdrive', force_remount=True)\n",
        "\n",
        "PARENT_DIR = 'gdrive/My Drive/Stat 175 Final Project/'"
      ]
    },
    {
      "cell_type": "code",
      "source": [
        "# https://stackoverflow.com/questions/67285115/building-wheels-for-torch-sparse-in-colab-takes-forever\n",
        "import torch\n",
        "!pip uninstall torch-scatter torch-sparse torch-geometric torch-cluster  --y\n",
        "!pip install torch-scatter -f https://data.pyg.org/whl/torch-{torch.__version__}.html\n",
        "!pip install torch-sparse -f https://data.pyg.org/whl/torch-{torch.__version__}.html\n",
        "!pip install torch-cluster -f https://data.pyg.org/whl/torch-{torch.__version__}.html\n",
        "!pip install git+https://github.com/pyg-team/pytorch_geometric.git\n",
        "!pip install tensorboardX\n",
        "!wget https://bin.equinox.io/c/4VmDzA7iaHb/ngrok-stable-linux-amd64.zip\n",
        "!unzip ngrok-stable-linux-amd64.zip"
      ],
      "metadata": {
        "id": "GCfqcZrEUMiC"
      },
      "execution_count": null,
      "outputs": []
    },
    {
      "cell_type": "code",
      "source": [
        "import torch.nn as nn\n",
        "import torch.nn.functional as F\n",
        "\n",
        "import torch_geometric.nn as pyg_nn\n",
        "import torch_geometric.utils as pyg_utils\n",
        "\n",
        "import time\n",
        "from datetime import datetime\n",
        "\n",
        "import networkx as nx\n",
        "import numpy as np\n",
        "import torch\n",
        "import torch.optim as optim\n",
        "\n",
        "from torch_geometric.datasets import TUDataset\n",
        "from torch_geometric.datasets import Planetoid\n",
        "from torch_geometric.data import DataLoader, Data\n",
        "\n",
        "\n",
        "import torch_geometric.transforms as T\n",
        "\n",
        "from tensorboardX import SummaryWriter\n",
        "from sklearn.manifold import TSNE\n",
        "import matplotlib.pyplot as plt"
      ],
      "metadata": {
        "id": "tAxudB2UUH3R"
      },
      "execution_count": null,
      "outputs": []
    },
    {
      "cell_type": "code",
      "source": [
        "# load entire dataframe\n",
        "df = pd.read_csv(f'{PARENT_DIR}climate_plus_claims.csv')\n",
        "df.head()"
      ],
      "metadata": {
        "colab": {
          "base_uri": "https://localhost:8080/",
          "height": 204
        },
        "id": "zT_LbMPHx1Ns",
        "outputId": "66d6168e-4b5a-44ed-8cff-4542f0323710"
      },
      "execution_count": null,
      "outputs": [
        {
          "output_type": "execute_result",
          "data": {
            "text/plain": [
              "    lat    lon        date   tmax   tmin    prec    wind  elev  amount\n",
              "0  25.2  278.9  1978-01-01  26.77  14.13   0.025  1.0845   0.0     0.0\n",
              "1  25.2  278.9  1978-01-02  25.37  17.89   2.725  1.5750   0.0     0.0\n",
              "2  25.2  278.9  1978-01-03  23.63  11.25  10.400  6.0765   0.0     0.0\n",
              "3  25.2  278.9  1978-01-04  18.73   7.26   2.475  6.5721   0.0     0.0\n",
              "4  25.2  278.9  1978-01-05  25.11  14.40   0.000  5.6610   0.0     0.0"
            ],
            "text/html": [
              "\n",
              "  <div id=\"df-1f1a8f61-48dc-4dd2-90db-e629fa65b40d\">\n",
              "    <div class=\"colab-df-container\">\n",
              "      <div>\n",
              "<style scoped>\n",
              "    .dataframe tbody tr th:only-of-type {\n",
              "        vertical-align: middle;\n",
              "    }\n",
              "\n",
              "    .dataframe tbody tr th {\n",
              "        vertical-align: top;\n",
              "    }\n",
              "\n",
              "    .dataframe thead th {\n",
              "        text-align: right;\n",
              "    }\n",
              "</style>\n",
              "<table border=\"1\" class=\"dataframe\">\n",
              "  <thead>\n",
              "    <tr style=\"text-align: right;\">\n",
              "      <th></th>\n",
              "      <th>lat</th>\n",
              "      <th>lon</th>\n",
              "      <th>date</th>\n",
              "      <th>tmax</th>\n",
              "      <th>tmin</th>\n",
              "      <th>prec</th>\n",
              "      <th>wind</th>\n",
              "      <th>elev</th>\n",
              "      <th>amount</th>\n",
              "    </tr>\n",
              "  </thead>\n",
              "  <tbody>\n",
              "    <tr>\n",
              "      <th>0</th>\n",
              "      <td>25.2</td>\n",
              "      <td>278.9</td>\n",
              "      <td>1978-01-01</td>\n",
              "      <td>26.77</td>\n",
              "      <td>14.13</td>\n",
              "      <td>0.025</td>\n",
              "      <td>1.0845</td>\n",
              "      <td>0.0</td>\n",
              "      <td>0.0</td>\n",
              "    </tr>\n",
              "    <tr>\n",
              "      <th>1</th>\n",
              "      <td>25.2</td>\n",
              "      <td>278.9</td>\n",
              "      <td>1978-01-02</td>\n",
              "      <td>25.37</td>\n",
              "      <td>17.89</td>\n",
              "      <td>2.725</td>\n",
              "      <td>1.5750</td>\n",
              "      <td>0.0</td>\n",
              "      <td>0.0</td>\n",
              "    </tr>\n",
              "    <tr>\n",
              "      <th>2</th>\n",
              "      <td>25.2</td>\n",
              "      <td>278.9</td>\n",
              "      <td>1978-01-03</td>\n",
              "      <td>23.63</td>\n",
              "      <td>11.25</td>\n",
              "      <td>10.400</td>\n",
              "      <td>6.0765</td>\n",
              "      <td>0.0</td>\n",
              "      <td>0.0</td>\n",
              "    </tr>\n",
              "    <tr>\n",
              "      <th>3</th>\n",
              "      <td>25.2</td>\n",
              "      <td>278.9</td>\n",
              "      <td>1978-01-04</td>\n",
              "      <td>18.73</td>\n",
              "      <td>7.26</td>\n",
              "      <td>2.475</td>\n",
              "      <td>6.5721</td>\n",
              "      <td>0.0</td>\n",
              "      <td>0.0</td>\n",
              "    </tr>\n",
              "    <tr>\n",
              "      <th>4</th>\n",
              "      <td>25.2</td>\n",
              "      <td>278.9</td>\n",
              "      <td>1978-01-05</td>\n",
              "      <td>25.11</td>\n",
              "      <td>14.40</td>\n",
              "      <td>0.000</td>\n",
              "      <td>5.6610</td>\n",
              "      <td>0.0</td>\n",
              "      <td>0.0</td>\n",
              "    </tr>\n",
              "  </tbody>\n",
              "</table>\n",
              "</div>\n",
              "      <button class=\"colab-df-convert\" onclick=\"convertToInteractive('df-1f1a8f61-48dc-4dd2-90db-e629fa65b40d')\"\n",
              "              title=\"Convert this dataframe to an interactive table.\"\n",
              "              style=\"display:none;\">\n",
              "        \n",
              "  <svg xmlns=\"http://www.w3.org/2000/svg\" height=\"24px\"viewBox=\"0 0 24 24\"\n",
              "       width=\"24px\">\n",
              "    <path d=\"M0 0h24v24H0V0z\" fill=\"none\"/>\n",
              "    <path d=\"M18.56 5.44l.94 2.06.94-2.06 2.06-.94-2.06-.94-.94-2.06-.94 2.06-2.06.94zm-11 1L8.5 8.5l.94-2.06 2.06-.94-2.06-.94L8.5 2.5l-.94 2.06-2.06.94zm10 10l.94 2.06.94-2.06 2.06-.94-2.06-.94-.94-2.06-.94 2.06-2.06.94z\"/><path d=\"M17.41 7.96l-1.37-1.37c-.4-.4-.92-.59-1.43-.59-.52 0-1.04.2-1.43.59L10.3 9.45l-7.72 7.72c-.78.78-.78 2.05 0 2.83L4 21.41c.39.39.9.59 1.41.59.51 0 1.02-.2 1.41-.59l7.78-7.78 2.81-2.81c.8-.78.8-2.07 0-2.86zM5.41 20L4 18.59l7.72-7.72 1.47 1.35L5.41 20z\"/>\n",
              "  </svg>\n",
              "      </button>\n",
              "      \n",
              "  <style>\n",
              "    .colab-df-container {\n",
              "      display:flex;\n",
              "      flex-wrap:wrap;\n",
              "      gap: 12px;\n",
              "    }\n",
              "\n",
              "    .colab-df-convert {\n",
              "      background-color: #E8F0FE;\n",
              "      border: none;\n",
              "      border-radius: 50%;\n",
              "      cursor: pointer;\n",
              "      display: none;\n",
              "      fill: #1967D2;\n",
              "      height: 32px;\n",
              "      padding: 0 0 0 0;\n",
              "      width: 32px;\n",
              "    }\n",
              "\n",
              "    .colab-df-convert:hover {\n",
              "      background-color: #E2EBFA;\n",
              "      box-shadow: 0px 1px 2px rgba(60, 64, 67, 0.3), 0px 1px 3px 1px rgba(60, 64, 67, 0.15);\n",
              "      fill: #174EA6;\n",
              "    }\n",
              "\n",
              "    [theme=dark] .colab-df-convert {\n",
              "      background-color: #3B4455;\n",
              "      fill: #D2E3FC;\n",
              "    }\n",
              "\n",
              "    [theme=dark] .colab-df-convert:hover {\n",
              "      background-color: #434B5C;\n",
              "      box-shadow: 0px 1px 3px 1px rgba(0, 0, 0, 0.15);\n",
              "      filter: drop-shadow(0px 1px 2px rgba(0, 0, 0, 0.3));\n",
              "      fill: #FFFFFF;\n",
              "    }\n",
              "  </style>\n",
              "\n",
              "      <script>\n",
              "        const buttonEl =\n",
              "          document.querySelector('#df-1f1a8f61-48dc-4dd2-90db-e629fa65b40d button.colab-df-convert');\n",
              "        buttonEl.style.display =\n",
              "          google.colab.kernel.accessAllowed ? 'block' : 'none';\n",
              "\n",
              "        async function convertToInteractive(key) {\n",
              "          const element = document.querySelector('#df-1f1a8f61-48dc-4dd2-90db-e629fa65b40d');\n",
              "          const dataTable =\n",
              "            await google.colab.kernel.invokeFunction('convertToInteractive',\n",
              "                                                     [key], {});\n",
              "          if (!dataTable) return;\n",
              "\n",
              "          const docLinkHtml = 'Like what you see? Visit the ' +\n",
              "            '<a target=\"_blank\" href=https://colab.research.google.com/notebooks/data_table.ipynb>data table notebook</a>'\n",
              "            + ' to learn more about interactive tables.';\n",
              "          element.innerHTML = '';\n",
              "          dataTable['output_type'] = 'display_data';\n",
              "          await google.colab.output.renderOutput(dataTable, element);\n",
              "          const docLink = document.createElement('div');\n",
              "          docLink.innerHTML = docLinkHtml;\n",
              "          element.appendChild(docLink);\n",
              "        }\n",
              "      </script>\n",
              "    </div>\n",
              "  </div>\n",
              "  "
            ]
          },
          "metadata": {},
          "execution_count": 27
        }
      ]
    },
    {
      "cell_type": "code",
      "source": [
        "df = df[df['elev'] > 0]"
      ],
      "metadata": {
        "id": "qYp8PQFux-rR"
      },
      "execution_count": null,
      "outputs": []
    },
    {
      "cell_type": "code",
      "source": [
        "df['date'] = pd.to_datetime(df['date'], errors = 'coerce')\n",
        "\n",
        "df['year'] = df['date'].dt.year\n",
        "df['month'] = df['date'].dt.month\n",
        "df['day'] = df['date'].dt.day\n",
        "# df= df[(df['year'] == 2004) & (df['month'] == 1)]\n",
        "# df['amount'].max()"
      ],
      "metadata": {
        "id": "BG35GCm6ySW3"
      },
      "execution_count": null,
      "outputs": []
    },
    {
      "cell_type": "code",
      "source": [
        "# set to index so we can slice\n",
        "df.set_index('date', inplace =True)\n",
        "\n",
        "# get range of times\n",
        "start_date = '1978-01-01'\n",
        "end_date = '2011-12-31'\n",
        "freq = '30D'\n",
        "\n",
        "date_range = pd.date_range(start=start_date, end=end_date, freq=freq)\n",
        "\n",
        "print(date_range)"
      ],
      "metadata": {
        "colab": {
          "base_uri": "https://localhost:8080/"
        },
        "id": "YzZoSnL50ter",
        "outputId": "dfa0b0e8-c9a7-4f9f-e5ed-51fa0948a296"
      },
      "execution_count": null,
      "outputs": [
        {
          "output_type": "stream",
          "name": "stdout",
          "text": [
            "DatetimeIndex(['1978-01-01', '1978-01-31', '1978-03-02', '1978-04-01',\n",
            "               '1978-05-01', '1978-05-31', '1978-06-30', '1978-07-30',\n",
            "               '1978-08-29', '1978-09-28',\n",
            "               ...\n",
            "               '2011-03-09', '2011-04-08', '2011-05-08', '2011-06-07',\n",
            "               '2011-07-07', '2011-08-06', '2011-09-05', '2011-10-05',\n",
            "               '2011-11-04', '2011-12-04'],\n",
            "              dtype='datetime64[ns]', length=414, freq='30D')\n"
          ]
        }
      ]
    },
    {
      "cell_type": "code",
      "source": [
        "def get_matrix(df, start30, end30):\n",
        "\n",
        "  N = 31*4\n",
        "  matrix = np.zeros((0, N + 6))\n",
        "\n",
        "  # select time window\n",
        "  temp = df.loc[start30.strftime('%Y-%m-%d'):end30.strftime('%Y-%m-%d'), :]\n",
        "  # for each location \n",
        "  for lat, lon in temp[['lat', 'lon']].drop_duplicates().values:\n",
        "      # get the values for that location\n",
        "      temp2 = temp[(temp['lat'] == lat) & (temp['lon'] ==lon)]\n",
        "\n",
        "      amount_sum = temp2['amount'].sum()\n",
        "      elev = temp2['elev'].iloc[1]\n",
        "      # create columns for the 28 days and fill with the corresponding 'x' values -- repeat for all variables      \n",
        "      X = temp2[['tmax', 'tmin', 'prec', 'wind']].values\n",
        "      X = X.reshape(1, -1)\n",
        "\n",
        "      if len(X[0]) < N:\n",
        "        padding_size = N - len(X[0])\n",
        "        X_long = np.pad(X, ((0, 0), (0, padding_size)), 'constant', constant_values=0)\n",
        "      else:\n",
        "          X_long = X\n",
        "      new_row = np.concatenate(([lat, lon, start30.year, start30.month, amount_sum, elev], X_long[0]))\n",
        "      matrix = np.vstack((matrix, new_row))\n",
        "  \n",
        "  # reformat to dataframe \n",
        "  columns = ['lat', 'lon', 'year', 'month', 'amount_sum','elev'] + [f'x_{i+1}' for i in range(31*4)]\n",
        "  df_new = pd.DataFrame(matrix, columns=columns)\n",
        "  return df_new\n"
      ],
      "metadata": {
        "id": "RzZe6Eip0y_k"
      },
      "execution_count": null,
      "outputs": []
    },
    {
      "cell_type": "code",
      "source": [
        "# load matrix \n",
        "amat = pd.read_csv(f'{PARENT_DIR}A_mat.csv')\n",
        "\n",
        "def get_torch(monthly_df):\n",
        "  \n",
        "  # extract x and y values \n",
        "  x_vals = monthly_df.reset_index().drop(['lat', 'lon', 'year', 'month', 'amount_sum'], axis = 1)\n",
        "  y_vals = torch.tensor(monthly_df.amount_sum.values, dtype = torch.float)\n",
        "\n",
        "  # convert to tensor\n",
        "  x_torch = torch.tensor(x_vals.values, dtype = torch.float)\n",
        "\n",
        "  # get edges from upper triangular matrix \n",
        "  upper_tri_indices = np.triu_indices(n = amat.to_numpy().shape[0], k=1)\n",
        "  edge_index = np.vstack(upper_tri_indices)\n",
        "\n",
        "  # convert edges to torch tensor \n",
        "  edge_index = torch.tensor(edge_index, dtype = torch.long)\n",
        "\n",
        "  # put everything together \n",
        "  torch_obj = Data(x = x_torch, y = y_vals, edge_index = edge_index)\n",
        "  return torch_obj"
      ],
      "metadata": {
        "id": "e-uPvnQFToBo"
      },
      "execution_count": null,
      "outputs": []
    },
    {
      "cell_type": "code",
      "source": [
        "t = get_matrix(df, date_range[0], date_range[1])\n",
        "t2 = get_torch(t)\n",
        "t2"
      ],
      "metadata": {
        "colab": {
          "base_uri": "https://localhost:8080/"
        },
        "id": "4BShSVZC2Xb-",
        "outputId": "f7c82876-541c-4910-96e7-8e8c36bf9d2b"
      },
      "execution_count": null,
      "outputs": [
        {
          "output_type": "execute_result",
          "data": {
            "text/plain": [
              "Data(x=[1029, 126], edge_index=[2, 528906], y=[1029])"
            ]
          },
          "metadata": {},
          "execution_count": 48
        }
      ]
    },
    {
      "cell_type": "code",
      "source": [
        "t3 = df.reset_index()[['lat', 'lon']].drop_duplicates().reset_index()"
      ],
      "metadata": {
        "id": "M-236jusyW-k"
      },
      "execution_count": null,
      "outputs": []
    },
    {
      "cell_type": "code",
      "source": [
        "t3.to_csv(f'{PARENT_DIR}locations.csv')"
      ],
      "metadata": {
        "id": "eEdW2EfrVFiy"
      },
      "execution_count": null,
      "outputs": []
    },
    {
      "cell_type": "markdown",
      "source": [
        "# Reformat and save in dataloader object"
      ],
      "metadata": {
        "id": "LJLCk4hI9UZ4"
      }
    },
    {
      "cell_type": "code",
      "source": [
        "# do for all objects\n",
        "from tqdm import tqdm\n",
        "objs_30day = []\n",
        "for i in tqdm(range(len(date_range)-1)): \n",
        "  # get dataframe\n",
        "  df_30day = get_matrix(df, date_range[i], date_range[i+1])\n",
        "  # get torch object \n",
        "  df_30day_torch = get_torch(df_30day)\n",
        "  # add to objs \n",
        "  #objs_30day.append(df_30day_torch)\n",
        "\n",
        "  # save directly to disk \n",
        "  torch.save(df_30day_torch, f'{PARENT_DIR}data/month_{i}.pth')"
      ],
      "metadata": {
        "colab": {
          "base_uri": "https://localhost:8080/"
        },
        "id": "m9oM0A2iU7_J",
        "outputId": "43a78f2d-a705-4948-cde3-a93ea348afbc"
      },
      "execution_count": null,
      "outputs": [
        {
          "output_type": "stream",
          "name": "stderr",
          "text": [
            "100%|██████████| 413/413 [13:55<00:00,  2.02s/it]\n"
          ]
        }
      ]
    },
    {
      "cell_type": "code",
      "source": [
        "loader = DataLoader(objs_30day, batch_size = 256, shuffle=True)"
      ],
      "metadata": {
        "colab": {
          "base_uri": "https://localhost:8080/"
        },
        "id": "aF34U0XEWALd",
        "outputId": "c71d5519-7d4b-49ae-c6be-573913fe68b8"
      },
      "execution_count": null,
      "outputs": [
        {
          "output_type": "stream",
          "name": "stderr",
          "text": [
            "/usr/local/lib/python3.10/dist-packages/torch_geometric/deprecation.py:22: UserWarning: 'data.DataLoader' is deprecated, use 'loader.DataLoader' instead\n",
            "  warnings.warn(out)\n"
          ]
        }
      ]
    },
    {
      "cell_type": "code",
      "source": [
        "torch.save(objs_30day[0],f'{PARENT_DIR}data/obj_0.pth')"
      ],
      "metadata": {
        "id": "yCqAXPOmWRg4"
      },
      "execution_count": null,
      "outputs": []
    },
    {
      "cell_type": "code",
      "source": [
        "torch.load(f'{PARENT_DIR}data/obj_0.pth')"
      ],
      "metadata": {
        "colab": {
          "base_uri": "https://localhost:8080/"
        },
        "id": "tD_rVQ-YAgz3",
        "outputId": "5eef0920-d8cc-426c-cf4c-6bb0ede9ee18"
      },
      "execution_count": null,
      "outputs": [
        {
          "output_type": "execute_result",
          "data": {
            "text/plain": [
              "Data(x=[1029, 126], edge_index=[2, 528906], y=[1029])"
            ]
          },
          "metadata": {},
          "execution_count": 20
        }
      ]
    },
    {
      "cell_type": "code",
      "source": [
        "N = 31*4\n",
        "matrix = np.zeros((0, N + 6))\n",
        "\n",
        "for lat, lon in df[['lat', 'lon']].drop_duplicates().values:\n",
        "    for year, month in df[['year', 'month']].drop_duplicates().values:\n",
        "\n",
        "        # filter rows for this lat, lon, year, and month\n",
        "        temp = df[(df['lat'] == lat) & (df['lon'] == lon) & (df['year'] == year) & (df['month'] == month)]\n",
        "\n",
        "        # sum the 'amount' column for this lat, lon, year, and month\n",
        "        amount_sum = temp['amount'].sum()\n",
        "        elev = temp['elev'].iloc[1]\n",
        "        # create columns for the 28 days and fill with the corresponding 'x' values -- repeat for all variables      \n",
        "        X = temp[['tmax', 'tmin', 'prec', 'wind']].values\n",
        "        X = X.reshape(1, -1)\n",
        "        if len(X[0]) < N:\n",
        "            padding_size = N - len(X[0])\n",
        "            X_long = np.pad(X, ((0, 0), (0, padding_size)), 'constant', constant_values=0)\n",
        "        else:\n",
        "            X_long = X\n",
        "        new_row = np.concatenate(([lat, lon, year, month, amount_sum, elev], X_long[0]))\n",
        "        matrix = np.vstack((matrix, new_row))"
      ],
      "metadata": {
        "colab": {
          "base_uri": "https://localhost:8080/",
          "height": 419
        },
        "id": "m_UuY6OjyawE",
        "outputId": "d553e8d7-303b-49f5-f3c1-8bd42a5e58e0"
      },
      "execution_count": null,
      "outputs": [
        {
          "output_type": "execute_result",
          "data": {
            "text/plain": [
              "           lat    lon       date   tmax   tmin    prec    wind  elev  amount  \\\n",
              "37254     25.3  279.2 1978-01-01  27.50  13.51   0.225  0.9854   2.0     0.0   \n",
              "37255     25.3  279.2 1978-01-02  26.06  18.12   3.475  1.3895   2.0     0.0   \n",
              "37256     25.3  279.2 1978-01-03  22.92  11.99  10.350  5.7326   2.0     0.0   \n",
              "37257     25.3  279.2 1978-01-04  20.91   9.33   1.525  6.3827   2.0     0.0   \n",
              "37258     25.3  279.2 1978-01-05  25.54  14.65   0.000  5.6024   2.0     0.0   \n",
              "...        ...    ...        ...    ...    ...     ...     ...   ...     ...   \n",
              "12865043  30.9  278.4 2011-12-27  19.86  10.72   1.000  3.7435   6.0     0.0   \n",
              "12865044  30.9  278.4 2011-12-28  17.68   4.68   2.450  6.2775   6.0     0.0   \n",
              "12865045  30.9  278.4 2011-12-29  16.36   3.44   0.000  1.6753   6.0     0.0   \n",
              "12865046  30.9  278.4 2011-12-30  19.13   3.71   0.000  2.0369   6.0     0.0   \n",
              "12865047  30.9  278.4 2011-12-31  21.84   9.40   0.000  3.8446   6.0     0.0   \n",
              "\n",
              "          year  month  day  \n",
              "37254     1978      1    1  \n",
              "37255     1978      1    2  \n",
              "37256     1978      1    3  \n",
              "37257     1978      1    4  \n",
              "37258     1978      1    5  \n",
              "...        ...    ...  ...  \n",
              "12865043  2011     12   27  \n",
              "12865044  2011     12   28  \n",
              "12865045  2011     12   29  \n",
              "12865046  2011     12   30  \n",
              "12865047  2011     12   31  \n",
              "\n",
              "[12778122 rows x 12 columns]"
            ],
            "text/html": [
              "\n",
              "  <div id=\"df-b56ad43e-73e8-4ac7-b7cf-0ca95afc0c42\">\n",
              "    <div class=\"colab-df-container\">\n",
              "      <div>\n",
              "<style scoped>\n",
              "    .dataframe tbody tr th:only-of-type {\n",
              "        vertical-align: middle;\n",
              "    }\n",
              "\n",
              "    .dataframe tbody tr th {\n",
              "        vertical-align: top;\n",
              "    }\n",
              "\n",
              "    .dataframe thead th {\n",
              "        text-align: right;\n",
              "    }\n",
              "</style>\n",
              "<table border=\"1\" class=\"dataframe\">\n",
              "  <thead>\n",
              "    <tr style=\"text-align: right;\">\n",
              "      <th></th>\n",
              "      <th>lat</th>\n",
              "      <th>lon</th>\n",
              "      <th>date</th>\n",
              "      <th>tmax</th>\n",
              "      <th>tmin</th>\n",
              "      <th>prec</th>\n",
              "      <th>wind</th>\n",
              "      <th>elev</th>\n",
              "      <th>amount</th>\n",
              "      <th>year</th>\n",
              "      <th>month</th>\n",
              "      <th>day</th>\n",
              "    </tr>\n",
              "  </thead>\n",
              "  <tbody>\n",
              "    <tr>\n",
              "      <th>37254</th>\n",
              "      <td>25.3</td>\n",
              "      <td>279.2</td>\n",
              "      <td>1978-01-01</td>\n",
              "      <td>27.50</td>\n",
              "      <td>13.51</td>\n",
              "      <td>0.225</td>\n",
              "      <td>0.9854</td>\n",
              "      <td>2.0</td>\n",
              "      <td>0.0</td>\n",
              "      <td>1978</td>\n",
              "      <td>1</td>\n",
              "      <td>1</td>\n",
              "    </tr>\n",
              "    <tr>\n",
              "      <th>37255</th>\n",
              "      <td>25.3</td>\n",
              "      <td>279.2</td>\n",
              "      <td>1978-01-02</td>\n",
              "      <td>26.06</td>\n",
              "      <td>18.12</td>\n",
              "      <td>3.475</td>\n",
              "      <td>1.3895</td>\n",
              "      <td>2.0</td>\n",
              "      <td>0.0</td>\n",
              "      <td>1978</td>\n",
              "      <td>1</td>\n",
              "      <td>2</td>\n",
              "    </tr>\n",
              "    <tr>\n",
              "      <th>37256</th>\n",
              "      <td>25.3</td>\n",
              "      <td>279.2</td>\n",
              "      <td>1978-01-03</td>\n",
              "      <td>22.92</td>\n",
              "      <td>11.99</td>\n",
              "      <td>10.350</td>\n",
              "      <td>5.7326</td>\n",
              "      <td>2.0</td>\n",
              "      <td>0.0</td>\n",
              "      <td>1978</td>\n",
              "      <td>1</td>\n",
              "      <td>3</td>\n",
              "    </tr>\n",
              "    <tr>\n",
              "      <th>37257</th>\n",
              "      <td>25.3</td>\n",
              "      <td>279.2</td>\n",
              "      <td>1978-01-04</td>\n",
              "      <td>20.91</td>\n",
              "      <td>9.33</td>\n",
              "      <td>1.525</td>\n",
              "      <td>6.3827</td>\n",
              "      <td>2.0</td>\n",
              "      <td>0.0</td>\n",
              "      <td>1978</td>\n",
              "      <td>1</td>\n",
              "      <td>4</td>\n",
              "    </tr>\n",
              "    <tr>\n",
              "      <th>37258</th>\n",
              "      <td>25.3</td>\n",
              "      <td>279.2</td>\n",
              "      <td>1978-01-05</td>\n",
              "      <td>25.54</td>\n",
              "      <td>14.65</td>\n",
              "      <td>0.000</td>\n",
              "      <td>5.6024</td>\n",
              "      <td>2.0</td>\n",
              "      <td>0.0</td>\n",
              "      <td>1978</td>\n",
              "      <td>1</td>\n",
              "      <td>5</td>\n",
              "    </tr>\n",
              "    <tr>\n",
              "      <th>...</th>\n",
              "      <td>...</td>\n",
              "      <td>...</td>\n",
              "      <td>...</td>\n",
              "      <td>...</td>\n",
              "      <td>...</td>\n",
              "      <td>...</td>\n",
              "      <td>...</td>\n",
              "      <td>...</td>\n",
              "      <td>...</td>\n",
              "      <td>...</td>\n",
              "      <td>...</td>\n",
              "      <td>...</td>\n",
              "    </tr>\n",
              "    <tr>\n",
              "      <th>12865043</th>\n",
              "      <td>30.9</td>\n",
              "      <td>278.4</td>\n",
              "      <td>2011-12-27</td>\n",
              "      <td>19.86</td>\n",
              "      <td>10.72</td>\n",
              "      <td>1.000</td>\n",
              "      <td>3.7435</td>\n",
              "      <td>6.0</td>\n",
              "      <td>0.0</td>\n",
              "      <td>2011</td>\n",
              "      <td>12</td>\n",
              "      <td>27</td>\n",
              "    </tr>\n",
              "    <tr>\n",
              "      <th>12865044</th>\n",
              "      <td>30.9</td>\n",
              "      <td>278.4</td>\n",
              "      <td>2011-12-28</td>\n",
              "      <td>17.68</td>\n",
              "      <td>4.68</td>\n",
              "      <td>2.450</td>\n",
              "      <td>6.2775</td>\n",
              "      <td>6.0</td>\n",
              "      <td>0.0</td>\n",
              "      <td>2011</td>\n",
              "      <td>12</td>\n",
              "      <td>28</td>\n",
              "    </tr>\n",
              "    <tr>\n",
              "      <th>12865045</th>\n",
              "      <td>30.9</td>\n",
              "      <td>278.4</td>\n",
              "      <td>2011-12-29</td>\n",
              "      <td>16.36</td>\n",
              "      <td>3.44</td>\n",
              "      <td>0.000</td>\n",
              "      <td>1.6753</td>\n",
              "      <td>6.0</td>\n",
              "      <td>0.0</td>\n",
              "      <td>2011</td>\n",
              "      <td>12</td>\n",
              "      <td>29</td>\n",
              "    </tr>\n",
              "    <tr>\n",
              "      <th>12865046</th>\n",
              "      <td>30.9</td>\n",
              "      <td>278.4</td>\n",
              "      <td>2011-12-30</td>\n",
              "      <td>19.13</td>\n",
              "      <td>3.71</td>\n",
              "      <td>0.000</td>\n",
              "      <td>2.0369</td>\n",
              "      <td>6.0</td>\n",
              "      <td>0.0</td>\n",
              "      <td>2011</td>\n",
              "      <td>12</td>\n",
              "      <td>30</td>\n",
              "    </tr>\n",
              "    <tr>\n",
              "      <th>12865047</th>\n",
              "      <td>30.9</td>\n",
              "      <td>278.4</td>\n",
              "      <td>2011-12-31</td>\n",
              "      <td>21.84</td>\n",
              "      <td>9.40</td>\n",
              "      <td>0.000</td>\n",
              "      <td>3.8446</td>\n",
              "      <td>6.0</td>\n",
              "      <td>0.0</td>\n",
              "      <td>2011</td>\n",
              "      <td>12</td>\n",
              "      <td>31</td>\n",
              "    </tr>\n",
              "  </tbody>\n",
              "</table>\n",
              "<p>12778122 rows × 12 columns</p>\n",
              "</div>\n",
              "      <button class=\"colab-df-convert\" onclick=\"convertToInteractive('df-b56ad43e-73e8-4ac7-b7cf-0ca95afc0c42')\"\n",
              "              title=\"Convert this dataframe to an interactive table.\"\n",
              "              style=\"display:none;\">\n",
              "        \n",
              "  <svg xmlns=\"http://www.w3.org/2000/svg\" height=\"24px\"viewBox=\"0 0 24 24\"\n",
              "       width=\"24px\">\n",
              "    <path d=\"M0 0h24v24H0V0z\" fill=\"none\"/>\n",
              "    <path d=\"M18.56 5.44l.94 2.06.94-2.06 2.06-.94-2.06-.94-.94-2.06-.94 2.06-2.06.94zm-11 1L8.5 8.5l.94-2.06 2.06-.94-2.06-.94L8.5 2.5l-.94 2.06-2.06.94zm10 10l.94 2.06.94-2.06 2.06-.94-2.06-.94-.94-2.06-.94 2.06-2.06.94z\"/><path d=\"M17.41 7.96l-1.37-1.37c-.4-.4-.92-.59-1.43-.59-.52 0-1.04.2-1.43.59L10.3 9.45l-7.72 7.72c-.78.78-.78 2.05 0 2.83L4 21.41c.39.39.9.59 1.41.59.51 0 1.02-.2 1.41-.59l7.78-7.78 2.81-2.81c.8-.78.8-2.07 0-2.86zM5.41 20L4 18.59l7.72-7.72 1.47 1.35L5.41 20z\"/>\n",
              "  </svg>\n",
              "      </button>\n",
              "      \n",
              "  <style>\n",
              "    .colab-df-container {\n",
              "      display:flex;\n",
              "      flex-wrap:wrap;\n",
              "      gap: 12px;\n",
              "    }\n",
              "\n",
              "    .colab-df-convert {\n",
              "      background-color: #E8F0FE;\n",
              "      border: none;\n",
              "      border-radius: 50%;\n",
              "      cursor: pointer;\n",
              "      display: none;\n",
              "      fill: #1967D2;\n",
              "      height: 32px;\n",
              "      padding: 0 0 0 0;\n",
              "      width: 32px;\n",
              "    }\n",
              "\n",
              "    .colab-df-convert:hover {\n",
              "      background-color: #E2EBFA;\n",
              "      box-shadow: 0px 1px 2px rgba(60, 64, 67, 0.3), 0px 1px 3px 1px rgba(60, 64, 67, 0.15);\n",
              "      fill: #174EA6;\n",
              "    }\n",
              "\n",
              "    [theme=dark] .colab-df-convert {\n",
              "      background-color: #3B4455;\n",
              "      fill: #D2E3FC;\n",
              "    }\n",
              "\n",
              "    [theme=dark] .colab-df-convert:hover {\n",
              "      background-color: #434B5C;\n",
              "      box-shadow: 0px 1px 3px 1px rgba(0, 0, 0, 0.15);\n",
              "      filter: drop-shadow(0px 1px 2px rgba(0, 0, 0, 0.3));\n",
              "      fill: #FFFFFF;\n",
              "    }\n",
              "  </style>\n",
              "\n",
              "      <script>\n",
              "        const buttonEl =\n",
              "          document.querySelector('#df-b56ad43e-73e8-4ac7-b7cf-0ca95afc0c42 button.colab-df-convert');\n",
              "        buttonEl.style.display =\n",
              "          google.colab.kernel.accessAllowed ? 'block' : 'none';\n",
              "\n",
              "        async function convertToInteractive(key) {\n",
              "          const element = document.querySelector('#df-b56ad43e-73e8-4ac7-b7cf-0ca95afc0c42');\n",
              "          const dataTable =\n",
              "            await google.colab.kernel.invokeFunction('convertToInteractive',\n",
              "                                                     [key], {});\n",
              "          if (!dataTable) return;\n",
              "\n",
              "          const docLinkHtml = 'Like what you see? Visit the ' +\n",
              "            '<a target=\"_blank\" href=https://colab.research.google.com/notebooks/data_table.ipynb>data table notebook</a>'\n",
              "            + ' to learn more about interactive tables.';\n",
              "          element.innerHTML = '';\n",
              "          dataTable['output_type'] = 'display_data';\n",
              "          await google.colab.output.renderOutput(dataTable, element);\n",
              "          const docLink = document.createElement('div');\n",
              "          docLink.innerHTML = docLinkHtml;\n",
              "          element.appendChild(docLink);\n",
              "        }\n",
              "      </script>\n",
              "    </div>\n",
              "  </div>\n",
              "  "
            ]
          },
          "metadata": {},
          "execution_count": 12
        }
      ]
    },
    {
      "cell_type": "code",
      "source": [],
      "metadata": {
        "id": "Q2iBlZgCydP6"
      },
      "execution_count": null,
      "outputs": []
    }
  ]
}